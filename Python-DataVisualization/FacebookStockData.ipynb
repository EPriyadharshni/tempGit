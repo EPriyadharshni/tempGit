{
 "cells": [
  {
   "cell_type": "code",
   "execution_count": 2,
   "metadata": {},
   "outputs": [],
   "source": [
    "# Import pandas, numpy, matplotlib.pyplot\n",
    "import pandas as pd\n",
    "import numpy as np\n",
    "import matplotlib.pyplot as plt\n",
    "\n",
    "# call the matplotlib inline magic\n",
    "%matplotlib inline"
   ]
  },
  {
   "cell_type": "code",
   "execution_count": 6,
   "metadata": {},
   "outputs": [],
   "source": [
    "df_FB = pd.read_csv('https://raw.githubusercontent.com/kalilurrahman/FBStockData/main/FB_stock_history.csv', index_col='Date', parse_dates=True)"
   ]
  },
  {
   "cell_type": "code",
   "execution_count": null,
   "metadata": {},
   "outputs": [],
   "source": []
  },
  {
   "cell_type": "code",
   "execution_count": 7,
   "metadata": {},
   "outputs": [
    {
     "data": {
      "text/html": [
       "<div>\n",
       "<style scoped>\n",
       "    .dataframe tbody tr th:only-of-type {\n",
       "        vertical-align: middle;\n",
       "    }\n",
       "\n",
       "    .dataframe tbody tr th {\n",
       "        vertical-align: top;\n",
       "    }\n",
       "\n",
       "    .dataframe thead th {\n",
       "        text-align: right;\n",
       "    }\n",
       "</style>\n",
       "<table border=\"1\" class=\"dataframe\">\n",
       "  <thead>\n",
       "    <tr style=\"text-align: right;\">\n",
       "      <th></th>\n",
       "      <th>Open</th>\n",
       "      <th>High</th>\n",
       "      <th>Low</th>\n",
       "      <th>Close</th>\n",
       "      <th>Volume</th>\n",
       "      <th>Dividends</th>\n",
       "      <th>Stock Splits</th>\n",
       "    </tr>\n",
       "    <tr>\n",
       "      <th>Date</th>\n",
       "      <th></th>\n",
       "      <th></th>\n",
       "      <th></th>\n",
       "      <th></th>\n",
       "      <th></th>\n",
       "      <th></th>\n",
       "      <th></th>\n",
       "    </tr>\n",
       "  </thead>\n",
       "  <tbody>\n",
       "    <tr>\n",
       "      <th>2012-05-18</th>\n",
       "      <td>42.049999</td>\n",
       "      <td>45.000000</td>\n",
       "      <td>38.000000</td>\n",
       "      <td>38.230000</td>\n",
       "      <td>573576400</td>\n",
       "      <td>0</td>\n",
       "      <td>0</td>\n",
       "    </tr>\n",
       "    <tr>\n",
       "      <th>2012-05-21</th>\n",
       "      <td>36.529999</td>\n",
       "      <td>36.660000</td>\n",
       "      <td>33.000000</td>\n",
       "      <td>34.029999</td>\n",
       "      <td>168192700</td>\n",
       "      <td>0</td>\n",
       "      <td>0</td>\n",
       "    </tr>\n",
       "    <tr>\n",
       "      <th>2012-05-22</th>\n",
       "      <td>32.610001</td>\n",
       "      <td>33.590000</td>\n",
       "      <td>30.940001</td>\n",
       "      <td>31.000000</td>\n",
       "      <td>101786600</td>\n",
       "      <td>0</td>\n",
       "      <td>0</td>\n",
       "    </tr>\n",
       "    <tr>\n",
       "      <th>2012-05-23</th>\n",
       "      <td>31.370001</td>\n",
       "      <td>32.500000</td>\n",
       "      <td>31.360001</td>\n",
       "      <td>32.000000</td>\n",
       "      <td>73600000</td>\n",
       "      <td>0</td>\n",
       "      <td>0</td>\n",
       "    </tr>\n",
       "    <tr>\n",
       "      <th>2012-05-24</th>\n",
       "      <td>32.950001</td>\n",
       "      <td>33.209999</td>\n",
       "      <td>31.770000</td>\n",
       "      <td>33.029999</td>\n",
       "      <td>50237200</td>\n",
       "      <td>0</td>\n",
       "      <td>0</td>\n",
       "    </tr>\n",
       "  </tbody>\n",
       "</table>\n",
       "</div>"
      ],
      "text/plain": [
       "                 Open       High        Low      Close     Volume  Dividends  \\\n",
       "Date                                                                           \n",
       "2012-05-18  42.049999  45.000000  38.000000  38.230000  573576400          0   \n",
       "2012-05-21  36.529999  36.660000  33.000000  34.029999  168192700          0   \n",
       "2012-05-22  32.610001  33.590000  30.940001  31.000000  101786600          0   \n",
       "2012-05-23  31.370001  32.500000  31.360001  32.000000   73600000          0   \n",
       "2012-05-24  32.950001  33.209999  31.770000  33.029999   50237200          0   \n",
       "\n",
       "            Stock Splits  \n",
       "Date                      \n",
       "2012-05-18             0  \n",
       "2012-05-21             0  \n",
       "2012-05-22             0  \n",
       "2012-05-23             0  \n",
       "2012-05-24             0  "
      ]
     },
     "execution_count": 7,
     "metadata": {},
     "output_type": "execute_result"
    }
   ],
   "source": [
    "df_FB.head()"
   ]
  },
  {
   "cell_type": "code",
   "execution_count": 8,
   "metadata": {},
   "outputs": [
    {
     "name": "stdout",
     "output_type": "stream",
     "text": [
      "<class 'pandas.core.frame.DataFrame'>\n",
      "DatetimeIndex: 2359 entries, 2012-05-18 to 2021-10-01\n",
      "Data columns (total 7 columns):\n",
      " #   Column        Non-Null Count  Dtype  \n",
      "---  ------        --------------  -----  \n",
      " 0   Open          2359 non-null   float64\n",
      " 1   High          2359 non-null   float64\n",
      " 2   Low           2359 non-null   float64\n",
      " 3   Close         2359 non-null   float64\n",
      " 4   Volume        2359 non-null   int64  \n",
      " 5   Dividends     2359 non-null   int64  \n",
      " 6   Stock Splits  2359 non-null   int64  \n",
      "dtypes: float64(4), int64(3)\n",
      "memory usage: 147.4 KB\n"
     ]
    }
   ],
   "source": [
    "df_FB.info()"
   ]
  },
  {
   "cell_type": "code",
   "execution_count": 9,
   "metadata": {},
   "outputs": [
    {
     "data": {
      "text/plain": [
       "(2359, 7)"
      ]
     },
     "execution_count": 9,
     "metadata": {},
     "output_type": "execute_result"
    }
   ],
   "source": [
    "df_FB.shape"
   ]
  },
  {
   "cell_type": "markdown",
   "metadata": {},
   "source": [
    "# Cleaning"
   ]
  },
  {
   "cell_type": "code",
   "execution_count": 10,
   "metadata": {},
   "outputs": [
    {
     "data": {
      "text/plain": [
       "Open            0\n",
       "High            0\n",
       "Low             0\n",
       "Close           0\n",
       "Volume          0\n",
       "Dividends       0\n",
       "Stock Splits    0\n",
       "dtype: int64"
      ]
     },
     "execution_count": 10,
     "metadata": {},
     "output_type": "execute_result"
    }
   ],
   "source": [
    "df_FB.isnull().sum()"
   ]
  },
  {
   "cell_type": "code",
   "execution_count": 11,
   "metadata": {},
   "outputs": [
    {
     "data": {
      "text/plain": [
       "Date\n",
       "2012-05-18    False\n",
       "2012-05-21    False\n",
       "2012-05-22    False\n",
       "2012-05-23    False\n",
       "2012-05-24    False\n",
       "              ...  \n",
       "2021-09-27    False\n",
       "2021-09-28    False\n",
       "2021-09-29    False\n",
       "2021-09-30    False\n",
       "2021-10-01    False\n",
       "Length: 2359, dtype: bool"
      ]
     },
     "execution_count": 11,
     "metadata": {},
     "output_type": "execute_result"
    }
   ],
   "source": [
    "df_FB.duplicated().isin([True])"
   ]
  },
  {
   "cell_type": "code",
   "execution_count": 12,
   "metadata": {},
   "outputs": [
    {
     "data": {
      "text/html": [
       "<div>\n",
       "<style scoped>\n",
       "    .dataframe tbody tr th:only-of-type {\n",
       "        vertical-align: middle;\n",
       "    }\n",
       "\n",
       "    .dataframe tbody tr th {\n",
       "        vertical-align: top;\n",
       "    }\n",
       "\n",
       "    .dataframe thead th {\n",
       "        text-align: right;\n",
       "    }\n",
       "</style>\n",
       "<table border=\"1\" class=\"dataframe\">\n",
       "  <thead>\n",
       "    <tr style=\"text-align: right;\">\n",
       "      <th></th>\n",
       "      <th>Open</th>\n",
       "      <th>High</th>\n",
       "      <th>Low</th>\n",
       "      <th>Close</th>\n",
       "      <th>Volume</th>\n",
       "      <th>Dividends</th>\n",
       "      <th>Stock Splits</th>\n",
       "    </tr>\n",
       "    <tr>\n",
       "      <th>Date</th>\n",
       "      <th></th>\n",
       "      <th></th>\n",
       "      <th></th>\n",
       "      <th></th>\n",
       "      <th></th>\n",
       "      <th></th>\n",
       "      <th></th>\n",
       "    </tr>\n",
       "  </thead>\n",
       "  <tbody>\n",
       "    <tr>\n",
       "      <th>2012-05-18</th>\n",
       "      <td>42.049999</td>\n",
       "      <td>45.000000</td>\n",
       "      <td>38.000000</td>\n",
       "      <td>38.230000</td>\n",
       "      <td>573576400</td>\n",
       "      <td>0</td>\n",
       "      <td>0</td>\n",
       "    </tr>\n",
       "    <tr>\n",
       "      <th>2012-05-21</th>\n",
       "      <td>36.529999</td>\n",
       "      <td>36.660000</td>\n",
       "      <td>33.000000</td>\n",
       "      <td>34.029999</td>\n",
       "      <td>168192700</td>\n",
       "      <td>0</td>\n",
       "      <td>0</td>\n",
       "    </tr>\n",
       "    <tr>\n",
       "      <th>2012-05-22</th>\n",
       "      <td>32.610001</td>\n",
       "      <td>33.590000</td>\n",
       "      <td>30.940001</td>\n",
       "      <td>31.000000</td>\n",
       "      <td>101786600</td>\n",
       "      <td>0</td>\n",
       "      <td>0</td>\n",
       "    </tr>\n",
       "    <tr>\n",
       "      <th>2012-05-23</th>\n",
       "      <td>31.370001</td>\n",
       "      <td>32.500000</td>\n",
       "      <td>31.360001</td>\n",
       "      <td>32.000000</td>\n",
       "      <td>73600000</td>\n",
       "      <td>0</td>\n",
       "      <td>0</td>\n",
       "    </tr>\n",
       "    <tr>\n",
       "      <th>2012-05-24</th>\n",
       "      <td>32.950001</td>\n",
       "      <td>33.209999</td>\n",
       "      <td>31.770000</td>\n",
       "      <td>33.029999</td>\n",
       "      <td>50237200</td>\n",
       "      <td>0</td>\n",
       "      <td>0</td>\n",
       "    </tr>\n",
       "    <tr>\n",
       "      <th>...</th>\n",
       "      <td>...</td>\n",
       "      <td>...</td>\n",
       "      <td>...</td>\n",
       "      <td>...</td>\n",
       "      <td>...</td>\n",
       "      <td>...</td>\n",
       "      <td>...</td>\n",
       "    </tr>\n",
       "    <tr>\n",
       "      <th>2021-09-27</th>\n",
       "      <td>349.809998</td>\n",
       "      <td>355.149994</td>\n",
       "      <td>347.079987</td>\n",
       "      <td>353.579987</td>\n",
       "      <td>15205800</td>\n",
       "      <td>0</td>\n",
       "      <td>0</td>\n",
       "    </tr>\n",
       "    <tr>\n",
       "      <th>2021-09-28</th>\n",
       "      <td>347.970001</td>\n",
       "      <td>349.600006</td>\n",
       "      <td>338.920013</td>\n",
       "      <td>340.649994</td>\n",
       "      <td>21710300</td>\n",
       "      <td>0</td>\n",
       "      <td>0</td>\n",
       "    </tr>\n",
       "    <tr>\n",
       "      <th>2021-09-29</th>\n",
       "      <td>343.149994</td>\n",
       "      <td>345.230011</td>\n",
       "      <td>338.880005</td>\n",
       "      <td>339.609985</td>\n",
       "      <td>14452200</td>\n",
       "      <td>0</td>\n",
       "      <td>0</td>\n",
       "    </tr>\n",
       "    <tr>\n",
       "      <th>2021-09-30</th>\n",
       "      <td>340.450012</td>\n",
       "      <td>342.799988</td>\n",
       "      <td>338.149994</td>\n",
       "      <td>339.390015</td>\n",
       "      <td>16547100</td>\n",
       "      <td>0</td>\n",
       "      <td>0</td>\n",
       "    </tr>\n",
       "    <tr>\n",
       "      <th>2021-10-01</th>\n",
       "      <td>341.609985</td>\n",
       "      <td>345.010010</td>\n",
       "      <td>338.640015</td>\n",
       "      <td>343.010010</td>\n",
       "      <td>14789507</td>\n",
       "      <td>0</td>\n",
       "      <td>0</td>\n",
       "    </tr>\n",
       "  </tbody>\n",
       "</table>\n",
       "<p>2359 rows × 7 columns</p>\n",
       "</div>"
      ],
      "text/plain": [
       "                  Open        High         Low       Close     Volume  \\\n",
       "Date                                                                    \n",
       "2012-05-18   42.049999   45.000000   38.000000   38.230000  573576400   \n",
       "2012-05-21   36.529999   36.660000   33.000000   34.029999  168192700   \n",
       "2012-05-22   32.610001   33.590000   30.940001   31.000000  101786600   \n",
       "2012-05-23   31.370001   32.500000   31.360001   32.000000   73600000   \n",
       "2012-05-24   32.950001   33.209999   31.770000   33.029999   50237200   \n",
       "...                ...         ...         ...         ...        ...   \n",
       "2021-09-27  349.809998  355.149994  347.079987  353.579987   15205800   \n",
       "2021-09-28  347.970001  349.600006  338.920013  340.649994   21710300   \n",
       "2021-09-29  343.149994  345.230011  338.880005  339.609985   14452200   \n",
       "2021-09-30  340.450012  342.799988  338.149994  339.390015   16547100   \n",
       "2021-10-01  341.609985  345.010010  338.640015  343.010010   14789507   \n",
       "\n",
       "            Dividends  Stock Splits  \n",
       "Date                                 \n",
       "2012-05-18          0             0  \n",
       "2012-05-21          0             0  \n",
       "2012-05-22          0             0  \n",
       "2012-05-23          0             0  \n",
       "2012-05-24          0             0  \n",
       "...               ...           ...  \n",
       "2021-09-27          0             0  \n",
       "2021-09-28          0             0  \n",
       "2021-09-29          0             0  \n",
       "2021-09-30          0             0  \n",
       "2021-10-01          0             0  \n",
       "\n",
       "[2359 rows x 7 columns]"
      ]
     },
     "execution_count": 12,
     "metadata": {},
     "output_type": "execute_result"
    }
   ],
   "source": [
    "df_FB.drop_duplicates() "
   ]
  },
  {
   "cell_type": "code",
   "execution_count": 13,
   "metadata": {},
   "outputs": [
    {
     "data": {
      "text/html": [
       "<div>\n",
       "<style scoped>\n",
       "    .dataframe tbody tr th:only-of-type {\n",
       "        vertical-align: middle;\n",
       "    }\n",
       "\n",
       "    .dataframe tbody tr th {\n",
       "        vertical-align: top;\n",
       "    }\n",
       "\n",
       "    .dataframe thead th {\n",
       "        text-align: right;\n",
       "    }\n",
       "</style>\n",
       "<table border=\"1\" class=\"dataframe\">\n",
       "  <thead>\n",
       "    <tr style=\"text-align: right;\">\n",
       "      <th></th>\n",
       "      <th>Open</th>\n",
       "      <th>High</th>\n",
       "      <th>Low</th>\n",
       "      <th>Close</th>\n",
       "      <th>Volume</th>\n",
       "      <th>Dividends</th>\n",
       "      <th>Stock Splits</th>\n",
       "    </tr>\n",
       "    <tr>\n",
       "      <th>Date</th>\n",
       "      <th></th>\n",
       "      <th></th>\n",
       "      <th></th>\n",
       "      <th></th>\n",
       "      <th></th>\n",
       "      <th></th>\n",
       "      <th></th>\n",
       "    </tr>\n",
       "  </thead>\n",
       "  <tbody>\n",
       "    <tr>\n",
       "      <th>2012-05-18</th>\n",
       "      <td>42.049999</td>\n",
       "      <td>45.000000</td>\n",
       "      <td>38.000000</td>\n",
       "      <td>38.230000</td>\n",
       "      <td>573576400</td>\n",
       "      <td>0</td>\n",
       "      <td>0</td>\n",
       "    </tr>\n",
       "    <tr>\n",
       "      <th>2012-05-21</th>\n",
       "      <td>36.529999</td>\n",
       "      <td>36.660000</td>\n",
       "      <td>33.000000</td>\n",
       "      <td>34.029999</td>\n",
       "      <td>168192700</td>\n",
       "      <td>0</td>\n",
       "      <td>0</td>\n",
       "    </tr>\n",
       "    <tr>\n",
       "      <th>2012-05-22</th>\n",
       "      <td>32.610001</td>\n",
       "      <td>33.590000</td>\n",
       "      <td>30.940001</td>\n",
       "      <td>31.000000</td>\n",
       "      <td>101786600</td>\n",
       "      <td>0</td>\n",
       "      <td>0</td>\n",
       "    </tr>\n",
       "    <tr>\n",
       "      <th>2012-05-23</th>\n",
       "      <td>31.370001</td>\n",
       "      <td>32.500000</td>\n",
       "      <td>31.360001</td>\n",
       "      <td>32.000000</td>\n",
       "      <td>73600000</td>\n",
       "      <td>0</td>\n",
       "      <td>0</td>\n",
       "    </tr>\n",
       "    <tr>\n",
       "      <th>2012-05-24</th>\n",
       "      <td>32.950001</td>\n",
       "      <td>33.209999</td>\n",
       "      <td>31.770000</td>\n",
       "      <td>33.029999</td>\n",
       "      <td>50237200</td>\n",
       "      <td>0</td>\n",
       "      <td>0</td>\n",
       "    </tr>\n",
       "    <tr>\n",
       "      <th>...</th>\n",
       "      <td>...</td>\n",
       "      <td>...</td>\n",
       "      <td>...</td>\n",
       "      <td>...</td>\n",
       "      <td>...</td>\n",
       "      <td>...</td>\n",
       "      <td>...</td>\n",
       "    </tr>\n",
       "    <tr>\n",
       "      <th>2021-09-27</th>\n",
       "      <td>349.809998</td>\n",
       "      <td>355.149994</td>\n",
       "      <td>347.079987</td>\n",
       "      <td>353.579987</td>\n",
       "      <td>15205800</td>\n",
       "      <td>0</td>\n",
       "      <td>0</td>\n",
       "    </tr>\n",
       "    <tr>\n",
       "      <th>2021-09-28</th>\n",
       "      <td>347.970001</td>\n",
       "      <td>349.600006</td>\n",
       "      <td>338.920013</td>\n",
       "      <td>340.649994</td>\n",
       "      <td>21710300</td>\n",
       "      <td>0</td>\n",
       "      <td>0</td>\n",
       "    </tr>\n",
       "    <tr>\n",
       "      <th>2021-09-29</th>\n",
       "      <td>343.149994</td>\n",
       "      <td>345.230011</td>\n",
       "      <td>338.880005</td>\n",
       "      <td>339.609985</td>\n",
       "      <td>14452200</td>\n",
       "      <td>0</td>\n",
       "      <td>0</td>\n",
       "    </tr>\n",
       "    <tr>\n",
       "      <th>2021-09-30</th>\n",
       "      <td>340.450012</td>\n",
       "      <td>342.799988</td>\n",
       "      <td>338.149994</td>\n",
       "      <td>339.390015</td>\n",
       "      <td>16547100</td>\n",
       "      <td>0</td>\n",
       "      <td>0</td>\n",
       "    </tr>\n",
       "    <tr>\n",
       "      <th>2021-10-01</th>\n",
       "      <td>341.609985</td>\n",
       "      <td>345.010010</td>\n",
       "      <td>338.640015</td>\n",
       "      <td>343.010010</td>\n",
       "      <td>14789507</td>\n",
       "      <td>0</td>\n",
       "      <td>0</td>\n",
       "    </tr>\n",
       "  </tbody>\n",
       "</table>\n",
       "<p>2359 rows × 7 columns</p>\n",
       "</div>"
      ],
      "text/plain": [
       "                  Open        High         Low       Close     Volume  \\\n",
       "Date                                                                    \n",
       "2012-05-18   42.049999   45.000000   38.000000   38.230000  573576400   \n",
       "2012-05-21   36.529999   36.660000   33.000000   34.029999  168192700   \n",
       "2012-05-22   32.610001   33.590000   30.940001   31.000000  101786600   \n",
       "2012-05-23   31.370001   32.500000   31.360001   32.000000   73600000   \n",
       "2012-05-24   32.950001   33.209999   31.770000   33.029999   50237200   \n",
       "...                ...         ...         ...         ...        ...   \n",
       "2021-09-27  349.809998  355.149994  347.079987  353.579987   15205800   \n",
       "2021-09-28  347.970001  349.600006  338.920013  340.649994   21710300   \n",
       "2021-09-29  343.149994  345.230011  338.880005  339.609985   14452200   \n",
       "2021-09-30  340.450012  342.799988  338.149994  339.390015   16547100   \n",
       "2021-10-01  341.609985  345.010010  338.640015  343.010010   14789507   \n",
       "\n",
       "            Dividends  Stock Splits  \n",
       "Date                                 \n",
       "2012-05-18          0             0  \n",
       "2012-05-21          0             0  \n",
       "2012-05-22          0             0  \n",
       "2012-05-23          0             0  \n",
       "2012-05-24          0             0  \n",
       "...               ...           ...  \n",
       "2021-09-27          0             0  \n",
       "2021-09-28          0             0  \n",
       "2021-09-29          0             0  \n",
       "2021-09-30          0             0  \n",
       "2021-10-01          0             0  \n",
       "\n",
       "[2359 rows x 7 columns]"
      ]
     },
     "execution_count": 13,
     "metadata": {},
     "output_type": "execute_result"
    }
   ],
   "source": [
    "df_FB.sort_index()"
   ]
  },
  {
   "cell_type": "code",
   "execution_count": 14,
   "metadata": {},
   "outputs": [
    {
     "data": {
      "text/html": [
       "<div>\n",
       "<style scoped>\n",
       "    .dataframe tbody tr th:only-of-type {\n",
       "        vertical-align: middle;\n",
       "    }\n",
       "\n",
       "    .dataframe tbody tr th {\n",
       "        vertical-align: top;\n",
       "    }\n",
       "\n",
       "    .dataframe thead th {\n",
       "        text-align: right;\n",
       "    }\n",
       "</style>\n",
       "<table border=\"1\" class=\"dataframe\">\n",
       "  <thead>\n",
       "    <tr style=\"text-align: right;\">\n",
       "      <th></th>\n",
       "      <th>Open</th>\n",
       "      <th>High</th>\n",
       "      <th>Low</th>\n",
       "      <th>Close</th>\n",
       "      <th>Volume</th>\n",
       "      <th>Dividends</th>\n",
       "      <th>Stock Splits</th>\n",
       "    </tr>\n",
       "  </thead>\n",
       "  <tbody>\n",
       "    <tr>\n",
       "      <th>count</th>\n",
       "      <td>2359.000000</td>\n",
       "      <td>2359.000000</td>\n",
       "      <td>2359.000000</td>\n",
       "      <td>2359.000000</td>\n",
       "      <td>2.359000e+03</td>\n",
       "      <td>2359.0</td>\n",
       "      <td>2359.0</td>\n",
       "    </tr>\n",
       "    <tr>\n",
       "      <th>mean</th>\n",
       "      <td>139.606969</td>\n",
       "      <td>141.234324</td>\n",
       "      <td>137.958605</td>\n",
       "      <td>139.656876</td>\n",
       "      <td>3.095630e+07</td>\n",
       "      <td>0.0</td>\n",
       "      <td>0.0</td>\n",
       "    </tr>\n",
       "    <tr>\n",
       "      <th>std</th>\n",
       "      <td>84.490691</td>\n",
       "      <td>85.465048</td>\n",
       "      <td>83.566847</td>\n",
       "      <td>84.565640</td>\n",
       "      <td>2.778137e+07</td>\n",
       "      <td>0.0</td>\n",
       "      <td>0.0</td>\n",
       "    </tr>\n",
       "    <tr>\n",
       "      <th>min</th>\n",
       "      <td>18.080000</td>\n",
       "      <td>18.270000</td>\n",
       "      <td>17.549999</td>\n",
       "      <td>17.730000</td>\n",
       "      <td>5.913100e+06</td>\n",
       "      <td>0.0</td>\n",
       "      <td>0.0</td>\n",
       "    </tr>\n",
       "    <tr>\n",
       "      <th>25%</th>\n",
       "      <td>74.935001</td>\n",
       "      <td>75.565002</td>\n",
       "      <td>74.020000</td>\n",
       "      <td>74.855000</td>\n",
       "      <td>1.564190e+07</td>\n",
       "      <td>0.0</td>\n",
       "      <td>0.0</td>\n",
       "    </tr>\n",
       "    <tr>\n",
       "      <th>50%</th>\n",
       "      <td>130.979996</td>\n",
       "      <td>132.259995</td>\n",
       "      <td>129.770004</td>\n",
       "      <td>131.050003</td>\n",
       "      <td>2.220590e+07</td>\n",
       "      <td>0.0</td>\n",
       "      <td>0.0</td>\n",
       "    </tr>\n",
       "    <tr>\n",
       "      <th>75%</th>\n",
       "      <td>184.914993</td>\n",
       "      <td>186.830002</td>\n",
       "      <td>183.419998</td>\n",
       "      <td>185.345001</td>\n",
       "      <td>3.597605e+07</td>\n",
       "      <td>0.0</td>\n",
       "      <td>0.0</td>\n",
       "    </tr>\n",
       "    <tr>\n",
       "      <th>max</th>\n",
       "      <td>381.679993</td>\n",
       "      <td>384.329987</td>\n",
       "      <td>378.809998</td>\n",
       "      <td>382.179993</td>\n",
       "      <td>5.735764e+08</td>\n",
       "      <td>0.0</td>\n",
       "      <td>0.0</td>\n",
       "    </tr>\n",
       "  </tbody>\n",
       "</table>\n",
       "</div>"
      ],
      "text/plain": [
       "              Open         High          Low        Close        Volume  \\\n",
       "count  2359.000000  2359.000000  2359.000000  2359.000000  2.359000e+03   \n",
       "mean    139.606969   141.234324   137.958605   139.656876  3.095630e+07   \n",
       "std      84.490691    85.465048    83.566847    84.565640  2.778137e+07   \n",
       "min      18.080000    18.270000    17.549999    17.730000  5.913100e+06   \n",
       "25%      74.935001    75.565002    74.020000    74.855000  1.564190e+07   \n",
       "50%     130.979996   132.259995   129.770004   131.050003  2.220590e+07   \n",
       "75%     184.914993   186.830002   183.419998   185.345001  3.597605e+07   \n",
       "max     381.679993   384.329987   378.809998   382.179993  5.735764e+08   \n",
       "\n",
       "       Dividends  Stock Splits  \n",
       "count     2359.0        2359.0  \n",
       "mean         0.0           0.0  \n",
       "std          0.0           0.0  \n",
       "min          0.0           0.0  \n",
       "25%          0.0           0.0  \n",
       "50%          0.0           0.0  \n",
       "75%          0.0           0.0  \n",
       "max          0.0           0.0  "
      ]
     },
     "execution_count": 14,
     "metadata": {},
     "output_type": "execute_result"
    }
   ],
   "source": [
    "df_FB.describe()\n"
   ]
  },
  {
   "cell_type": "code",
   "execution_count": 17,
   "metadata": {},
   "outputs": [],
   "source": [
    "df_AMZN = pd.read_excel(io='https://s3.eu-west-1.amazonaws.com/neueda.conygre.com/pydata/market_data.xls', sheet_name='AMZN', parse_dates=True, index_col='Date')\n",
    "#df_AAPL = pd.read_excel(io='https://s3.eu-west-1.amazonaws.com/neueda.conygre.com/pydata/market_data.xls', sheet_name='AAPL', parse_dates=True, index_col='Date')\n",
    "\n"
   ]
  },
  {
   "cell_type": "code",
   "execution_count": 18,
   "metadata": {},
   "outputs": [
    {
     "data": {
      "text/html": [
       "<div>\n",
       "<style scoped>\n",
       "    .dataframe tbody tr th:only-of-type {\n",
       "        vertical-align: middle;\n",
       "    }\n",
       "\n",
       "    .dataframe tbody tr th {\n",
       "        vertical-align: top;\n",
       "    }\n",
       "\n",
       "    .dataframe thead th {\n",
       "        text-align: right;\n",
       "    }\n",
       "</style>\n",
       "<table border=\"1\" class=\"dataframe\">\n",
       "  <thead>\n",
       "    <tr style=\"text-align: right;\">\n",
       "      <th></th>\n",
       "      <th>Open_FB</th>\n",
       "      <th>High_FB</th>\n",
       "      <th>Low_FB</th>\n",
       "      <th>Close_FB</th>\n",
       "      <th>Volume_FB</th>\n",
       "      <th>Open_AMZN</th>\n",
       "      <th>High_AMZN</th>\n",
       "      <th>Low_AMZN</th>\n",
       "      <th>Close_AMZN</th>\n",
       "      <th>Volume_AMZN</th>\n",
       "    </tr>\n",
       "  </thead>\n",
       "  <tbody>\n",
       "    <tr>\n",
       "      <th>2014-03-31</th>\n",
       "      <td>60.779999</td>\n",
       "      <td>61.520000</td>\n",
       "      <td>59.869999</td>\n",
       "      <td>60.240002</td>\n",
       "      <td>53011000</td>\n",
       "      <td>342.399994</td>\n",
       "      <td>346.290009</td>\n",
       "      <td>334.059998</td>\n",
       "      <td>336.369995</td>\n",
       "      <td>4297500</td>\n",
       "    </tr>\n",
       "    <tr>\n",
       "      <th>2014-06-30</th>\n",
       "      <td>67.459999</td>\n",
       "      <td>67.919998</td>\n",
       "      <td>67.129997</td>\n",
       "      <td>67.290001</td>\n",
       "      <td>27102800</td>\n",
       "      <td>324.980011</td>\n",
       "      <td>326.980011</td>\n",
       "      <td>322.239990</td>\n",
       "      <td>324.779999</td>\n",
       "      <td>2671300</td>\n",
       "    </tr>\n",
       "    <tr>\n",
       "      <th>2014-09-30</th>\n",
       "      <td>79.349998</td>\n",
       "      <td>79.709999</td>\n",
       "      <td>78.599998</td>\n",
       "      <td>79.040001</td>\n",
       "      <td>35899000</td>\n",
       "      <td>321.359985</td>\n",
       "      <td>323.429993</td>\n",
       "      <td>318.510010</td>\n",
       "      <td>322.440002</td>\n",
       "      <td>2636200</td>\n",
       "    </tr>\n",
       "    <tr>\n",
       "      <th>2014-12-31</th>\n",
       "      <td>79.540001</td>\n",
       "      <td>79.800003</td>\n",
       "      <td>77.860001</td>\n",
       "      <td>78.019997</td>\n",
       "      <td>19935400</td>\n",
       "      <td>311.549988</td>\n",
       "      <td>312.980011</td>\n",
       "      <td>310.010010</td>\n",
       "      <td>310.350006</td>\n",
       "      <td>2048000</td>\n",
       "    </tr>\n",
       "  </tbody>\n",
       "</table>\n",
       "</div>"
      ],
      "text/plain": [
       "              Open_FB    High_FB     Low_FB   Close_FB  Volume_FB   Open_AMZN  \\\n",
       "2014-03-31  60.779999  61.520000  59.869999  60.240002   53011000  342.399994   \n",
       "2014-06-30  67.459999  67.919998  67.129997  67.290001   27102800  324.980011   \n",
       "2014-09-30  79.349998  79.709999  78.599998  79.040001   35899000  321.359985   \n",
       "2014-12-31  79.540001  79.800003  77.860001  78.019997   19935400  311.549988   \n",
       "\n",
       "             High_AMZN    Low_AMZN  Close_AMZN  Volume_AMZN  \n",
       "2014-03-31  346.290009  334.059998  336.369995      4297500  \n",
       "2014-06-30  326.980011  322.239990  324.779999      2671300  \n",
       "2014-09-30  323.429993  318.510010  322.440002      2636200  \n",
       "2014-12-31  312.980011  310.010010  310.350006      2048000  "
      ]
     },
     "execution_count": 18,
     "metadata": {},
     "output_type": "execute_result"
    }
   ],
   "source": [
    "df_merge=df_FB.merge(df_AMZN,on=\"Date\",how=\"inner\")\n",
    "\n",
    "\n",
    "date_range = pd.date_range(start='2014', freq='BQ', periods=4)\n",
    "cols  = ['Open_x','High_x','Low_x', 'Close_x', 'Volume_x','Open_y','High_y','Low_y', 'Close_y', 'Volume_y']\n",
    "\n",
    "df_merge_final = df_merge.reindex(date_range)[cols]\n",
    "\n",
    "df_merge_final.rename(columns = {'Open_x':'Open_FB', 'High_x':'High_FB','Low_x':'Low_FB','Close_x':'Close_FB','Volume_x':'Volume_FB','Open_y':'Open_AMZN', 'High_y':'High_AMZN','Low_y':'Low_AMZN','Close_y':'Close_AMZN','Volume_y':'Volume_AMZN'},inplace = True)\n",
    "\n",
    "df_merge_final"
   ]
  },
  {
   "cell_type": "code",
   "execution_count": 19,
   "metadata": {},
   "outputs": [
    {
     "data": {
      "text/html": [
       "<div>\n",
       "<style scoped>\n",
       "    .dataframe tbody tr th:only-of-type {\n",
       "        vertical-align: middle;\n",
       "    }\n",
       "\n",
       "    .dataframe tbody tr th {\n",
       "        vertical-align: top;\n",
       "    }\n",
       "\n",
       "    .dataframe thead th {\n",
       "        text-align: right;\n",
       "    }\n",
       "</style>\n",
       "<table border=\"1\" class=\"dataframe\">\n",
       "  <thead>\n",
       "    <tr style=\"text-align: right;\">\n",
       "      <th></th>\n",
       "      <th>Facebook</th>\n",
       "      <th>Amazon</th>\n",
       "    </tr>\n",
       "  </thead>\n",
       "  <tbody>\n",
       "    <tr>\n",
       "      <th>Facebook</th>\n",
       "      <td>1.000000</td>\n",
       "      <td>0.795146</td>\n",
       "    </tr>\n",
       "    <tr>\n",
       "      <th>Amazon</th>\n",
       "      <td>0.795146</td>\n",
       "      <td>1.000000</td>\n",
       "    </tr>\n",
       "  </tbody>\n",
       "</table>\n",
       "</div>"
      ],
      "text/plain": [
       "          Facebook    Amazon\n",
       "Facebook  1.000000  0.795146\n",
       "Amazon    0.795146  1.000000"
      ]
     },
     "execution_count": 19,
     "metadata": {},
     "output_type": "execute_result"
    }
   ],
   "source": [
    "df_CORR = pd.DataFrame()\n",
    "\n",
    "df_CORR['Facebook'] =df_merge_final['Close_FB'].pct_change()\n",
    "\n",
    "df_CORR['Amazon'] = df_merge_final['Close_AMZN'].pct_change()\n",
    "\n",
    "df_CORR.head()\n",
    "df_CORR.corr()"
   ]
  },
  {
   "cell_type": "code",
   "execution_count": 20,
   "metadata": {},
   "outputs": [
    {
     "data": {
      "text/plain": [
       "<AxesSubplot:xlabel='Date'>"
      ]
     },
     "execution_count": 20,
     "metadata": {},
     "output_type": "execute_result"
    },
    {
     "data": {
      "image/png": "[encoded data removed]",
      "text/plain": [
       "<Figure size 432x288 with 1 Axes>"
      ]
     },
     "metadata": {
      "needs_background": "light"
     },
     "output_type": "display_data"
    }
   ],
   "source": [
    "df = pd.DataFrame()\n",
    "df['FB'] = df_FB['Open']\n",
    "df.plot(grid=True)\n"
   ]
  },
  {
   "cell_type": "code",
   "execution_count": 21,
   "metadata": {},
   "outputs": [
    {
     "data": {
      "text/plain": [
       "<AxesSubplot:xlabel='Date'>"
      ]
     },
     "execution_count": 21,
     "metadata": {},
     "output_type": "execute_result"
    },
    {
     "data": {
      "image/png": "[encoded data removed]",
      "text/plain": [
       "<Figure size 432x288 with 1 Axes>"
      ]
     },
     "metadata": {
      "needs_background": "light"
     },
     "output_type": "display_data"
    }
   ],
   "source": [
    "df['FB'] = df_FB['Open']\n",
    "df.plot(grid=True)\n"
   ]
  },
  {
   "cell_type": "code",
   "execution_count": 22,
   "metadata": {},
   "outputs": [
    {
     "data": {
      "text/plain": [
       "<AxesSubplot:xlabel='Date'>"
      ]
     },
     "execution_count": 22,
     "metadata": {},
     "output_type": "execute_result"
    },
    {
     "data": {
      "image/png": "[encoded data removed]",
      "text/plain": [
       "<Figure size 432x288 with 1 Axes>"
      ]
     },
     "metadata": {
      "needs_background": "light"
     },
     "output_type": "display_data"
    }
   ],
   "source": [
    "df['DailyPercentShiftFB'] = (df['FB']/df['FB'].shift(1)) - 1\n",
    "df['DailyPercentShiftFB'].plot(grid=True)\n"
   ]
  },
  {
   "cell_type": "code",
   "execution_count": 23,
   "metadata": {},
   "outputs": [
    {
     "data": {
      "text/plain": [
       "<AxesSubplot:xlabel='Date'>"
      ]
     },
     "execution_count": 23,
     "metadata": {},
     "output_type": "execute_result"
    },
    {
     "data": {
      "image/png": "[encoded data removed]",
      "text/plain": [
       "<Figure size 432x288 with 1 Axes>"
      ]
     },
     "metadata": {
      "needs_background": "light"
     },
     "output_type": "display_data"
    }
   ],
   "source": [
    "# plot relationship between Close prices, 12 ewm and 26 ewm\n",
    "df_MACD = pd.DataFrame()\n",
    "\n",
    "# Calculate 12 day EMA, 26 day EMA, MACD\n",
    "df_MACD['12d_EMA'] = df['FB'].ewm(span=12).mean()\n",
    "df_MACD['26d_EMA'] = df['FB'].ewm(span=26).mean()\n",
    "df_MACD['MACD'] = df_MACD['26d_EMA']-df_MACD['12d_EMA']\n",
    "df_MACD['MACD'].plot(grid=True)\n"
   ]
  },
  {
   "cell_type": "code",
   "execution_count": 24,
   "metadata": {},
   "outputs": [
    {
     "data": {
      "text/plain": [
       "<AxesSubplot:xlabel='Date'>"
      ]
     },
     "execution_count": 24,
     "metadata": {},
     "output_type": "execute_result"
    },
    {
     "data": {
      "image/png": "[encoded data removed]",
      "text/plain": [
       "<Figure size 432x288 with 1 Axes>"
      ]
     },
     "metadata": {
      "needs_background": "light"
     },
     "output_type": "display_data"
    }
   ],
   "source": [
    "# plot relationship between Close prices, 12 ewm and 26 ewm\n",
    "df_MACD['FB'] = df['FB']\n",
    "cols = ['FB','12d_EMA','26d_EMA', 'MACD']\n",
    "df_MACD[cols].plot(grid=True)"
   ]
  },
  {
   "cell_type": "code",
   "execution_count": 25,
   "metadata": {},
   "outputs": [
    {
     "data": {
      "text/plain": [
       "<AxesSubplot:xlabel='Date'>"
      ]
     },
     "execution_count": 25,
     "metadata": {},
     "output_type": "execute_result"
    },
    {
     "data": {
      "image/png": "[encoded data removed]",
      "text/plain": [
       "<Figure size 432x288 with 1 Axes>"
      ]
     },
     "metadata": {
      "needs_background": "light"
     },
     "output_type": "display_data"
    }
   ],
   "source": [
    "\n",
    "df_merge['NormHighFB']=df_FB['High']/df_FB.iloc[0]['High']\n",
    "df_merge['NormHighAMZN']=df_AMZN['High']/df_AMZN.iloc[0]['High']\n",
    "cols=['NormHighFB','NormHighAMZN']\n",
    "df_merge[cols].plot(grid=True)"
   ]
  },
  {
   "cell_type": "code",
   "execution_count": 26,
   "metadata": {},
   "outputs": [
    {
     "data": {
      "text/plain": [
       "<AxesSubplot:xlabel='Date'>"
      ]
     },
     "execution_count": 26,
     "metadata": {},
     "output_type": "execute_result"
    },
    {
     "data": {
      "image/png": "[encoded data removed]",
      "text/plain": [
       "<Figure size 432x288 with 1 Axes>"
      ]
     },
     "metadata": {
      "needs_background": "light"
     },
     "output_type": "display_data"
    }
   ],
   "source": [
    "df_merge['NormLowFB']=df_FB['Low']/df_FB.iloc[0]['Low']\n",
    "df_merge['NormLowAMZN']=df_AMZN['Low']/df_AMZN.iloc[0]['Low']\n",
    "cols=['NormLowFB','NormLowAMZN']\n",
    "df_merge[cols].plot(grid=True)\n"
   ]
  },
  {
   "cell_type": "code",
   "execution_count": null,
   "metadata": {},
   "outputs": [],
   "source": []
  }
 ],
 "metadata": {
  "kernelspec": {
   "display_name": "Python 3 (ipykernel)",
   "language": "python",
   "name": "python3"
  },
  "language_info": {
   "codemirror_mode": {
    "name": "ipython",
    "version": 3
   },
   "file_extension": ".py",
   "mimetype": "text/x-python",
   "name": "python",
   "nbconvert_exporter": "python",
   "pygments_lexer": "ipython3",
   "version": "3.9.7"
  }
 },
 "nbformat": 4,
 "nbformat_minor": 4
}
